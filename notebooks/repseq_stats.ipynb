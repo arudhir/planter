{
 "cells": [
  {
   "cell_type": "code",
   "execution_count": 25,
   "metadata": {},
   "outputs": [],
   "source": [
    "from IPython.core.interactiveshell import InteractiveShell\n",
    "InteractiveShell.ast_node_interactivity = \"all\"\n",
    "\n",
    "from pathlib import Path\n",
    "import pandas as pd\n",
    "import numpy as np\n",
    "import seaborn as sns\n",
    "import matplotlib.pyplot as plt\n",
    "\n",
    "import sys\n",
    "sys.path.append('../scripts')\n",
    "from get_srr_metadata import get_sra_info\n"
   ]
  },
  {
   "cell_type": "code",
   "execution_count": 36,
   "metadata": {},
   "outputs": [
    {
     "data": {
      "text/html": [
       "<div>\n",
       "<style scoped>\n",
       "    .dataframe tbody tr th:only-of-type {\n",
       "        vertical-align: middle;\n",
       "    }\n",
       "\n",
       "    .dataframe tbody tr th {\n",
       "        vertical-align: top;\n",
       "    }\n",
       "\n",
       "    .dataframe thead th {\n",
       "        text-align: right;\n",
       "    }\n",
       "</style>\n",
       "<table border=\"1\" class=\"dataframe\">\n",
       "  <thead>\n",
       "    <tr style=\"text-align: right;\">\n",
       "      <th></th>\n",
       "      <th>sample</th>\n",
       "      <th>repseq_count</th>\n",
       "      <th>added</th>\n",
       "    </tr>\n",
       "  </thead>\n",
       "  <tbody>\n",
       "    <tr>\n",
       "      <th>71</th>\n",
       "      <td>ERR9123871</td>\n",
       "      <td>16588</td>\n",
       "      <td>NaN</td>\n",
       "    </tr>\n",
       "    <tr>\n",
       "      <th>22</th>\n",
       "      <td>ERR9123872</td>\n",
       "      <td>17111</td>\n",
       "      <td>523.0</td>\n",
       "    </tr>\n",
       "    <tr>\n",
       "      <th>14</th>\n",
       "      <td>ERR9123874</td>\n",
       "      <td>17640</td>\n",
       "      <td>529.0</td>\n",
       "    </tr>\n",
       "    <tr>\n",
       "      <th>12</th>\n",
       "      <td>ERR9123875</td>\n",
       "      <td>18014</td>\n",
       "      <td>374.0</td>\n",
       "    </tr>\n",
       "    <tr>\n",
       "      <th>44</th>\n",
       "      <td>ERR9123876</td>\n",
       "      <td>18244</td>\n",
       "      <td>230.0</td>\n",
       "    </tr>\n",
       "  </tbody>\n",
       "</table>\n",
       "</div>"
      ],
      "text/plain": [
       "        sample  repseq_count  added\n",
       "71  ERR9123871         16588    NaN\n",
       "22  ERR9123872         17111  523.0\n",
       "14  ERR9123874         17640  529.0\n",
       "12  ERR9123875         18014  374.0\n",
       "44  ERR9123876         18244  230.0"
      ]
     },
     "execution_count": 36,
     "metadata": {},
     "output_type": "execute_result"
    }
   ],
   "source": [
    "repseq_dir = Path('/mnt/data2/planter_outputs/repseq')\n",
    "\n",
    "def count_lines(file_path):\n",
    "    with open(file_path, 'r') as file:\n",
    "        return sum(1 for _ in file)\n",
    "\n",
    "repseq_counts = {}\n",
    "for updated_reps in repseq_dir.glob('*/updated_reps.txt'):\n",
    "    repseq_counts[updated_reps.parent.name] = count_lines(updated_reps)\n",
    "\n",
    "repseq_counts_df = (\n",
    "    pd.DataFrame(list(repseq_counts.items()), columns=['sample', 'repseq_count'])\n",
    "        .sort_values(by='repseq_count')\n",
    "        .assign(\n",
    "            added=lambda x: x['repseq_count'].diff(),\n",
    "            sample=lambda df: df['sample'].str.split('_').str[1]\n",
    "        )\n",
    ")\n",
    "repseq_counts_df.head()"
   ]
  },
  {
   "cell_type": "markdown",
   "metadata": {},
   "source": [
    "# Read in the cluster TSV"
   ]
  },
  {
   "cell_type": "code",
   "execution_count": 42,
   "metadata": {},
   "outputs": [],
   "source": [
    "cluster_tsv = Path('/mnt/data2/planter_outputs/repseq/update_SRR8859648/newClusterDB.tsv')\n",
    "clusters = pd.read_csv(cluster_tsv, delimiter='\\t', header=None)"
   ]
  },
  {
   "cell_type": "code",
   "execution_count": 49,
   "metadata": {},
   "outputs": [
    {
     "data": {
      "text/plain": [
       "(194371, 2)"
      ]
     },
     "execution_count": 49,
     "metadata": {},
     "output_type": "execute_result"
    },
    {
     "data": {
      "text/plain": [
       "(160682,)"
      ]
     },
     "execution_count": 49,
     "metadata": {},
     "output_type": "execute_result"
    },
    {
     "data": {
      "text/plain": [
       "(194370,)"
      ]
     },
     "execution_count": 49,
     "metadata": {},
     "output_type": "execute_result"
    }
   ],
   "source": [
    "clusters.shape\n",
    "clusters[0].unique().shape\n",
    "clusters[1].unique().shape"
   ]
  },
  {
   "cell_type": "code",
   "execution_count": 45,
   "metadata": {},
   "outputs": [
    {
     "data": {
      "text/plain": [
       "0\n",
       "v1_DLS_a89447817bd72bee76a7c6d80024299e5fcdbca460231818912e36cd452a3545.p1    48\n",
       "v1_DLS_f901beedca93288c7882f2f778acf372bb7eae09b58a9fc989adf75b6f9f2844.p1    26\n",
       "v1_DLS_3c6cbf8edcf2f6560ac4d803c3d7a09d31d1b69f132c41feed033b88901cafca.p1    25\n",
       "v1_DLS_33d96989c2d450f33ebe09551d9c88e2a7c11395f77c411b07a8b0f93a33b034.p2    22\n",
       "v1_DLS_7a2fbd7865ddbcf9de48d864e83cbb28bce568eafe09f6b7bfc3b79e1d5bd3ea.p1    21\n",
       "                                                                              ..\n",
       "v1_DLS_5bffc226d8a505812dd2a57db0abd424dcc752d8dd5d593964a818b4d56906cd.p2     1\n",
       "v1_DLS_5bffcc5ad2c8336c8b0f80302e63744cef62ff6afbc89752b9784511bc3e35ff.p1     1\n",
       "v1_DLS_5bffd1cbf8314430ea1fb4241368ff239061b9c9fd64242871f311cfd1988016.p1     1\n",
       "v1_DLS_5c0038791d4f9efe505c924bf5e3e560cf9b4fba97e6345ed165b76d378bda89.p1     1\n",
       "v1_DLS_5bfda6f548e1b8befbff673026d3a47e212e53bc9af0be8c72f8e0f052c1f4dd.p1     1\n",
       "Length: 160682, dtype: int64"
      ]
     },
     "execution_count": 45,
     "metadata": {},
     "output_type": "execute_result"
    }
   ],
   "source": [
    "clusters.groupby(0).size().sort_values(ascending=False)"
   ]
  },
  {
   "cell_type": "code",
   "execution_count": 24,
   "metadata": {},
   "outputs": [
    {
     "data": {
      "text/plain": [
       "<Figure size 1000x600 with 0 Axes>"
      ]
     },
     "execution_count": 24,
     "metadata": {},
     "output_type": "execute_result"
    },
    {
     "data": {
      "text/plain": [
       "<Axes: xlabel='sample', ylabel='repseq_count'>"
      ]
     },
     "execution_count": 24,
     "metadata": {},
     "output_type": "execute_result"
    },
    {
     "data": {
      "image/png": "[encoded data removed]",
      "text/plain": [
       "<Figure size 1000x600 with 1 Axes>"
      ]
     },
     "metadata": {},
     "output_type": "display_data"
    }
   ],
   "source": [
    "# Plot the repseq_count and diff\n",
    "plt.figure(figsize=(10, 6))\n",
    "sns.lineplot(x='sample', y='repseq_count', data=repseq_counts_df)\n",
    "plt.show()\n"
   ]
  },
  {
   "cell_type": "code",
   "execution_count": 27,
   "metadata": {},
   "outputs": [
    {
     "data": {
      "text/plain": [
       "'Silene latifolia subsp. alba'"
      ]
     },
     "execution_count": 27,
     "metadata": {},
     "output_type": "execute_result"
    }
   ],
   "source": [
    "get_sra_info('ERR9123876')['organism']"
   ]
  }
 ],
 "metadata": {
  "kernelspec": {
   "display_name": "venv",
   "language": "python",
   "name": "python3"
  },
  "language_info": {
   "codemirror_mode": {
    "name": "ipython",
    "version": 3
   },
   "file_extension": ".py",
   "mimetype": "text/x-python",
   "name": "python",
   "nbconvert_exporter": "python",
   "pygments_lexer": "ipython3",
   "version": "3.12.0"
  }
 },
 "nbformat": 4,
 "nbformat_minor": 2
}
