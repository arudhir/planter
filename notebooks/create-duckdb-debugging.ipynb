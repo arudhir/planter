{
 "cells": [
  {
   "cell_type": "code",
   "execution_count": 2,
   "metadata": {},
   "outputs": [],
   "source": [
    "from IPython.core.interactiveshell import InteractiveShell\n",
    "InteractiveShell.ast_node_interactivity = 'all'\n",
    "\n",
    "from planter.database.utils.duckdb_utils import (\n",
    "    extract_representative_sequences, \n",
    "    create_duckdb,\n",
    "    merge_duckdbs,\n",
    "    validate_duckdb_schema,\n",
    "    update_clusters\n",
    ")\n"
   ]
  },
  {
   "cell_type": "code",
   "execution_count": 7,
   "metadata": {},
   "outputs": [
    {
     "name": "stderr",
     "output_type": "stream",
     "text": [
      "Transaction failed: Conversion Error: Could not convert string '7000099800' to INT32\n",
      "Failed to insert metadata: Conversion Error: Could not convert string '7000099800' to INT32\n",
      "Failed to process SRR31045536: Failed to insert metadata: Conversion Error: Could not convert string '7000099800' to INT32\n"
     ]
    }
   ],
   "source": [
    "sample_id = 'SRR31045536'\n",
    "create_duckdb(sample_id=sample_id, outdir='/mnt/data4/planter_outputs', duckdb_out=f'/mnt/data4/tmp_duckdb/{sample_id}.duckdb')"
   ]
  },
  {
   "cell_type": "code",
   "execution_count": 8,
   "metadata": {},
   "outputs": [
    {
     "data": {
      "text/plain": [
       "7000099800"
      ]
     },
     "execution_count": 8,
     "metadata": {},
     "output_type": "execute_result"
    }
   ],
   "source": [
    "7000099800"
   ]
  }
 ],
 "metadata": {
  "kernelspec": {
   "display_name": "Python 3",
   "language": "python",
   "name": "python3"
  },
  "language_info": {
   "codemirror_mode": {
    "name": "ipython",
    "version": 3
   },
   "file_extension": ".py",
   "mimetype": "text/x-python",
   "name": "python",
   "nbconvert_exporter": "python",
   "pygments_lexer": "ipython3",
   "version": "3.12.0"
  }
 },
 "nbformat": 4,
 "nbformat_minor": 2
}
