{
 "cells": [
  {
   "cell_type": "code",
   "execution_count": 1,
   "metadata": {},
   "outputs": [],
   "source": [
    "%load_ext autoreload\n",
    "%autoreload 2\n",
    "from IPython.core.interactiveshell import InteractiveShell\n",
    "InteractiveShell.ast_node_interactivity = \"all\"\n",
    "from IPython.display import display"
   ]
  },
  {
   "cell_type": "code",
   "execution_count": 10,
   "metadata": {},
   "outputs": [
    {
     "data": {
      "text/plain": [
       "PosixPath('/mnt/data3/planter_outputs/SRR12068547')"
      ]
     },
     "execution_count": 10,
     "metadata": {},
     "output_type": "execute_result"
    },
    {
     "data": {
      "text/plain": [
       "{'stats_json': PosixPath('/mnt/data3/planter_outputs/SRR12068547/SRR12068547_stats.json'),\n",
       " 'transcripts_fasta': PosixPath('/mnt/data3/planter_outputs/SRR12068547/rnaspades/SRR12068547_transcripts_renamed.fasta'),\n",
       " 'quant_sf': PosixPath('/mnt/data3/planter_outputs/SRR12068547/quants/quant.sf'),\n",
       " 'eggnog_annot': PosixPath('/mnt/data3/planter_outputs/SRR12068547/eggnog/SRR12068547.emapper.annotations'),\n",
       " 'transdecoder_pep': PosixPath('/mnt/data3/planter_outputs/SRR12068547/transdecoder/SRR12068547.pep'),\n",
       " 'rrna_stats': PosixPath('/mnt/data3/planter_outputs/SRR12068547/illumina/rrna_filtered/SRR12068547_rRNA_filter.stats')}"
      ]
     },
     "execution_count": 10,
     "metadata": {},
     "output_type": "execute_result"
    }
   ],
   "source": [
    "import pathlib\n",
    "from pathlib import Path\n",
    "MESOPLASMA_SRA_ID = 'SRR12068547'\n",
    "NEW_SRA_ID = 'ERR2040767'\n",
    "\n",
    "def get_sample_dir(sra_id, base_dir='/mnt/data3/planter_outputs'):\n",
    "    if type(base_dir) != pathlib.PosixPath:\n",
    "        base_dir = Path(base_dir)\n",
    "    return base_dir / sra_id\n",
    "\n",
    "def get_paths(sra_id, base_dir='/mnt/data3/planter_outputs'):\n",
    "    sample_dir = get_sample_dir(sra_id=sra_id, base_dir=base_dir)\n",
    "    return {\n",
    "        \"stats_json\": sample_dir / f\"{sra_id}_stats.json\",\n",
    "        \"transcripts_fasta\": sample_dir / \"rnaspades\" / f\"{sra_id}_transcripts_renamed.fasta\",\n",
    "        \"quant_sf\": sample_dir / \"quants\" / \"quant.sf\",\n",
    "        \"eggnog_annot\": sample_dir / \"eggnog\" / f\"{sra_id}.emapper.annotations\",\n",
    "        \"transdecoder_pep\": sample_dir / \"transdecoder\" / f\"{sra_id}.pep\",\n",
    "        \"rrna_stats\": sample_dir / \"illumina\" / \"rrna_filtered\" / f\"{sra_id}_rRNA_filter.stats\"\n",
    "    }\n",
    "\n",
    "def validate_paths(paths):\n",
    "    for p in paths.values():\n",
    "        assert p.exists()\n",
    "\n",
    "get_sample_dir(MESOPLASMA_SRA_ID)\n",
    "get_paths(MESOPLASMA_SRA_ID)\n",
    "validate_paths(get_paths(MESOPLASMA_SRA_ID))"
   ]
  },
  {
   "cell_type": "code",
   "execution_count": 6,
   "metadata": {},
   "outputs": [
    {
     "data": {
      "text/plain": [
       "pathlib.PosixPath"
      ]
     },
     "execution_count": 6,
     "metadata": {},
     "output_type": "execute_result"
    }
   ],
   "source": [
    "type(Path('.'))"
   ]
  }
 ],
 "metadata": {
  "kernelspec": {
   "display_name": "Python 3",
   "language": "python",
   "name": "python3"
  },
  "language_info": {
   "codemirror_mode": {
    "name": "ipython",
    "version": 3
   },
   "file_extension": ".py",
   "mimetype": "text/x-python",
   "name": "python",
   "nbconvert_exporter": "python",
   "pygments_lexer": "ipython3",
   "version": "3.12.0"
  }
 },
 "nbformat": 4,
 "nbformat_minor": 2
}
